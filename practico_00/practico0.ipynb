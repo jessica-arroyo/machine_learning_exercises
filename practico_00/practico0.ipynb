{
 "cells": [
  {
   "cell_type": "markdown",
   "metadata": {},
   "source": [
    "# Fundamentos de Aprendizaje Automático y Reconocimiento de Patrones\n",
    "***\n",
    "# Práctico 0"
   ]
  },
  {
   "cell_type": "code",
   "execution_count": 3,
   "metadata": {
    "ExecuteTime": {
     "end_time": "2022-08-01T18:20:49.404026Z",
     "start_time": "2022-08-01T18:20:49.398446Z"
    }
   },
   "outputs": [],
   "source": [
    "# Se importa la biblioteca numpy\n",
    "import numpy as np"
   ]
  },
  {
   "cell_type": "markdown",
   "metadata": {},
   "source": [
    "## Objetivos\n",
    "\n",
    "Es un objetivo del plantel docente que los estudiantes adquieran ciertas habilidades de programación que le permitan implementar algoritmos de *aprendizaje automático*.  Este práctico busca brindarle al estudiante una serie de ejercicios de programación que le permitan:\n",
    "\n",
    "- enfrentarse rápidamente a algunas tareas de programación típicas del curso\n",
    "- evaluar si ya cuenta con los conocimientos necesarios para resolverlos \n",
    "- identificar qué aspectos de la programación en *python* (y su biblioteca asociada *numpy*) son más relevantes para el curso.  \n",
    "\n",
    "### Observaciones\n",
    "\n",
    "Los ejercicios aquí propuestos surgen a partir de la identificación de algunas de las dificultades más comunes  que enfrentaron los estudiantes de la edición anterior del curso. No se espera que todos los estudiantes sean capaces de resolver los ejercicios en la primera semana del curso. Somos conscientes que en muchos casos éste será el primer contacto con las herramientas de programación del curso. Sin embargo, consideramos **necesario** que puedan resolver este tipo de tareas  **antes** de la instancia del **primer parcial**.     \n",
    "\n",
    "**Nota 1:** Para aquellos que no están familiarizados con Python/numpy se **recomienda fuertemente** la lectura de los siguientes tutoriales antes de realizar estos ejercicios.\n",
    "\n",
    "- [Curso Básico de Python](https://iie.fing.edu.uy/personal/vagonbar/curso-basico-de-python/): Curso que provee una formación básica en el lenguaje de Python. Se sugiere la lectura de los primeros cinco capítulos para aquellos no familiarizados con python.\n",
    "- [Python-Numpy tutorial](https://cs231n.github.io/python-numpy-tutorial/): Introducción rápida al lenguaje de programación Python, y al uso de Python para computación científica.\n",
    "\n",
    "\n",
    "\n",
    "**Nota 2:** Los parciales y los prácticos se harán en Jupyter Notebook. Pueden encontrar una [guía de instalación](https://eva.fing.edu.uy/mod/page/view.php?id=90800) del ambiente de trabajo (miniconda) en el eva del curso. \n",
    "\n",
    "*** \n",
    "\n",
    "## Lista de ejercicios\n",
    "\n",
    "[Ejercicio 1](#Ejercicio1): Indices en arreglos 1d y 2d    \n",
    "[Ejercicio 2](#Ejercicio2): Comparación de arreglos  \n",
    "[Ejercicio 3](#Ejercicio3): No es copia   \n",
    "[Ejercicio 4](#Ejercicio4): Atentos al broadcasting   \n",
    "[Ejercicio 5](#Ejercicio5): Sin loops por favor"
   ]
  },
  {
   "cell_type": "markdown",
   "metadata": {},
   "source": [
    "<a id=\"Ejercicio1\"></a>\n",
    "### Ejercicio 1 \n",
    "\n",
    "**Parte a)** \n",
    "\n",
    "Modificar la siguiente celda de forma que al ejecutarla, la salida sea la siguiente: \n",
    "\n",
    "```\n",
    "---------------------------------------\n",
    "[0 1 2 3 4 5 6 7 8 9]\n",
    "[2 3 4]\n",
    "[1 3 5]\n",
    "[9 8 7 6]\n",
    "[9 8 7 6 5 4 3 2 1 0]\n",
    "---------------------------------------\n",
    "```"
   ]
  },
  {
   "cell_type": "code",
   "execution_count": 4,
   "metadata": {},
   "outputs": [
    {
     "name": "stdout",
     "output_type": "stream",
     "text": [
      "---------------------------------------\n",
      "[0 1 2 3 4 5 6 7 8 9]\n",
      "[2 3 4]\n",
      "[1 3 5]\n",
      "[9 8 7 6]\n",
      "[9 8 7 6 5 4 3 2 1 0]\n",
      "---------------------------------------\n"
     ]
    }
   ],
   "source": [
    "print('---------------------------------------')\n",
    "\n",
    "x = np.arange(10)\n",
    "print(x)\n",
    "\n",
    "y = np.arange(2, 5, 1)\n",
    "print(y)\n",
    "\n",
    "y = np.arange(1, 6, 2)\n",
    "print(y)\n",
    "\n",
    "y = np.arange(9, 5, -1)\n",
    "print(y)\n",
    "\n",
    "y = np.arange(9, -1, -1)\n",
    "print(y)\n",
    "\n",
    "print('---------------------------------------')"
   ]
  },
  {
   "cell_type": "markdown",
   "metadata": {},
   "source": [
    "**Parte b)** Manipulación de arreglos"
   ]
  },
  {
   "cell_type": "markdown",
   "metadata": {},
   "source": [
    "Modificar la siguiente celda de forma que al ejecutarla, la salida sea la siguiente: \n",
    "\n",
    "```\n",
    "---------------------------------------\n",
    "[[1 2 3]  \n",
    " [4 5 6]]  \n",
    "[2 5]  \n",
    "[[3 2 1]  \n",
    " [6 5 4]]  \n",
    "---------------------------------------\n",
    "```"
   ]
  },
  {
   "cell_type": "code",
   "execution_count": 10,
   "metadata": {},
   "outputs": [
    {
     "name": "stdout",
     "output_type": "stream",
     "text": [
      "---------------------------------------\n",
      "[[1 2 3]\n",
      " [4 5 6]]\n",
      "[2 5]\n",
      "[[3 2 1]\n",
      " [6 5 4]]\n",
      "---------------------------------------\n"
     ]
    }
   ],
   "source": [
    "print('---------------------------------------')\n",
    "\n",
    "b = np.array([[1,2,3],[4,5,6]])\n",
    "print(b)\n",
    "\n",
    "y = b[:,1] \n",
    "print(y)\n",
    "\n",
    "y  =b[:,::-1] \n",
    "print(y)\n",
    "\n",
    "print('---------------------------------------')"
   ]
  },
  {
   "cell_type": "code",
   "execution_count": 1,
   "metadata": {},
   "outputs": [
    {
     "name": "stdout",
     "output_type": "stream",
     "text": [
      "[[], [], []]\n"
     ]
    }
   ],
   "source": [
    "def rotate(matrix):\n",
    "    rows = len(matrix)\n",
    "    cols = len(matrix[0])\n",
    "    res = []\n",
    "    for i in range(cols):\n",
    "        temp = []\n",
    "        for j in range(rows):\n",
    "            temp.append(matrix[j][i])\n",
    "        res.append(temp[::-1])\n",
    "\n",
    "    return res\n",
    "\n",
    "\n",
    "matrix = [[1, 2, 3], [4, 5, 6], [7, 8, 9]]\n",
    "print(rotate(matrix))"
   ]
  },
  {
   "cell_type": "markdown",
   "metadata": {},
   "source": [
    "**Parte c)** Completar el código de la función `generar_marco_2d()`. "
   ]
  },
  {
   "cell_type": "code",
   "execution_count": 4,
   "metadata": {},
   "outputs": [],
   "source": [
    "def generar_marco_2d(N, M):\n",
    "    '''\n",
    "    Genera un arreglo 2D de dimensiones (N,M). \n",
    "    Los elementos del arreglo valen 0 salvo en los bordes donde valen 1.\n",
    "\n",
    "    Sugerencia: no debería llevarle más de tres líneas\n",
    "\n",
    "    Entrada:\n",
    "    --------\n",
    "        N: número de filas del marco\n",
    "        M: número de columas del marco\n",
    "\n",
    "    Salida:\n",
    "    -------\n",
    "        marco: arreglo de tamaño (N,M)\n",
    "    '''\n",
    "    ##########################################\n",
    "    ### EMPIEZA ESPACIO PARA COMPLETAR CÓDIGO\n",
    "    ##########################################\n",
    "    marco=np.zeros((N,M))\n",
    "    marco[-1,:]=marco[0,:]=np.ones((1,M))\n",
    "    marco[:,-1]=marco[:,0]=np.ones((1,N))\n",
    "    \n",
    "    \n",
    "\n",
    "    ##########################################\n",
    "    ### TERMINA ESPACIO PARA COMPLETAR CÓDIGO\n",
    "    ##########################################\n",
    "    return marco"
   ]
  },
  {
   "cell_type": "markdown",
   "metadata": {},
   "source": [
    "La siguiente celda verifica que la implementación de la generación del marco sea correcta."
   ]
  },
  {
   "cell_type": "code",
   "execution_count": 5,
   "metadata": {},
   "outputs": [
    {
     "name": "stdout",
     "output_type": "stream",
     "text": [
      "Éxito!\n"
     ]
    }
   ],
   "source": [
    "from numpy.testing import assert_equal, assert_array_equal\n",
    "# se verifica el funcionamiento con algunas muestras\n",
    "assert_array_equal(generar_marco_2d(1, 1), [[1]])\n",
    "assert_array_equal(generar_marco_2d(2, 2), [[1, 1], [1, 1]])\n",
    "assert_array_equal(generar_marco_2d(3, 3), [[1, 1, 1], [1, 0, 1], [1, 1, 1]])\n",
    "assert_array_equal(generar_marco_2d(3, 4), [[1, 1, 1, 1], [1, 0, 0, 1], [1, 1, 1, 1]])\n",
    "\n",
    "# se verifica con algunos marcos generados aleatoriamente\n",
    "for i in range(10):\n",
    "    n, m = np.random.randint(2, 1000, 2)\n",
    "    result = generar_marco_2d(n, m)\n",
    "\n",
    "    # se verifica el tamaño\n",
    "    assert_equal(result.shape, (n, m))\n",
    "\n",
    "    # se verifican los bordes\n",
    "    assert (result[0] == 1).all()\n",
    "    assert (result[-1] == 1).all()\n",
    "    assert (result[:, 0] == 1).all()\n",
    "    assert (result[:, -1] == 1).all()\n",
    "\n",
    "    # Se verifica el interior\n",
    "    assert np.sum(result) == (2*n + 2*m - 4)\n",
    "\n",
    "print(\"Éxito!\")"
   ]
  },
  {
   "cell_type": "markdown",
   "metadata": {},
   "source": [
    "<a id=\"Ejercicio2\"></a>\n",
    "### Ejercicio 2"
   ]
  },
  {
   "cell_type": "markdown",
   "metadata": {},
   "source": [
    "La siguiente celda genera dos arreglos binarios de tamaño 10. Utilizando una línea de código, calcular la cantidad de elementos que tienen el mismo valor.  "
   ]
  },
  {
   "cell_type": "code",
   "execution_count": 6,
   "metadata": {},
   "outputs": [
    {
     "name": "stdout",
     "output_type": "stream",
     "text": [
      "[0 0 0 1 1 0 1 1 0 1]\n",
      "[1 1 1 0 1 1 1 1 1 1]\n",
      "4\n"
     ]
    }
   ],
   "source": [
    "a = np.random.randint(0,2,10)\n",
    "b = np.random.randint(0,2,10)\n",
    "print(a)\n",
    "print(b)\n",
    "\n",
    "numero_coincidencias = len(a) - np.count_nonzero(a-b)\n",
    "print(numero_coincidencias)"
   ]
  },
  {
   "cell_type": "markdown",
   "metadata": {},
   "source": [
    "<a id=\"Ejercicio3\"></a>\n",
    "### Ejercicio 3\n",
    "**Parte a)**  Explicar la salida de la siguiente celda"
   ]
  },
  {
   "cell_type": "code",
   "execution_count": 7,
   "metadata": {},
   "outputs": [
    {
     "name": "stdout",
     "output_type": "stream",
     "text": [
      "[1 2 3]\n",
      "[1 0 3]\n"
     ]
    }
   ],
   "source": [
    "a=np.array([1,2,3])\n",
    "b=a.copy()\n",
    "b[1]=0\n",
    "print(a)\n",
    "print(b)"
   ]
  },
  {
   "cell_type": "markdown",
   "metadata": {},
   "source": [
    "**Parte b)**  ¿Qué sucede cuando la segunda línea se sustituye por $b=a$? ¿Cambia el comportamiento si se usa b=a.copy()?"
   ]
  },
  {
   "cell_type": "markdown",
   "metadata": {},
   "source": [
    "**Respuesta:** ... Cambia si, cuando se usa copy no se modifica el array \"a\" cuando se setea b[1]=0, en el otro caso sí.  "
   ]
  },
  {
   "cell_type": "markdown",
   "metadata": {},
   "source": [
    "<a id=\"Ejercicio4\"></a>\n",
    "### Ejercicio 4"
   ]
  },
  {
   "cell_type": "markdown",
   "metadata": {},
   "source": [
    "Se considera el siguiente bloque de código"
   ]
  },
  {
   "cell_type": "code",
   "execution_count": 8,
   "metadata": {},
   "outputs": [
    {
     "name": "stdout",
     "output_type": "stream",
     "text": [
      "[1. 1. 1. 1.]\n",
      "[[0.24401289 0.69080954 0.54806445 0.72494934]\n",
      " [0.87930104 0.06901922 0.05366777 0.2119049 ]\n",
      " [0.01390756 0.49866147 0.32097849 0.63290223]\n",
      " [0.98882615 0.55657625 0.56678439 0.45826547]]\n"
     ]
    }
   ],
   "source": [
    "d=4\n",
    "unos  = np.ones(d)\n",
    "X = np.random.rand(d,d)\n",
    "print(unos)\n",
    "print(X)"
   ]
  },
  {
   "cell_type": "markdown",
   "metadata": {},
   "source": [
    "**Parte a)** Explicar qué es lo que hacen las líneas 2 y 3 de la celda"
   ]
  },
  {
   "cell_type": "markdown",
   "metadata": {},
   "source": [
    "**Respuesta:** ... unos es un array de 1 de tamaño 4, mientras que X es una matrix de valores random entre 0 y 1 (sin incluir) de tamaño 4x4"
   ]
  },
  {
   "cell_type": "markdown",
   "metadata": {},
   "source": [
    "**Parte b)**  Explicar la salida de la siguiente celda. En particular, observe que las dimensiones de $X$ y $unos$ no coinciden y sin embargo las operaciones no generan error."
   ]
  },
  {
   "cell_type": "markdown",
   "metadata": {},
   "source": [
    "**Respuesta:** ..."
   ]
  },
  {
   "cell_type": "code",
   "execution_count": 9,
   "metadata": {},
   "outputs": [
    {
     "name": "stdout",
     "output_type": "stream",
     "text": [
      "[[1.24401289 1.69080954 1.54806445 1.72494934]\n",
      " [1.87930104 1.06901922 1.05366777 1.2119049 ]\n",
      " [1.01390756 1.49866147 1.32097849 1.63290223]\n",
      " [1.98882615 1.55657625 1.56678439 1.45826547]]\n",
      "[[0.24401289 0.69080954 0.54806445 0.72494934]\n",
      " [0.87930104 0.06901922 0.05366777 0.2119049 ]\n",
      " [0.01390756 0.49866147 0.32097849 0.63290223]\n",
      " [0.98882615 0.55657625 0.56678439 0.45826547]]\n"
     ]
    }
   ],
   "source": [
    "Y1 = X + unos\n",
    "Y2 = X*unos\n",
    "print(Y1)\n",
    "print(Y2)"
   ]
  },
  {
   "cell_type": "markdown",
   "metadata": {},
   "source": [
    "**Pate c)** Explique qué operación se realiza en la siguiente celda.\n",
    "Es una multiplicacion matricial (producto suma). "
   ]
  },
  {
   "cell_type": "code",
   "execution_count": 10,
   "metadata": {},
   "outputs": [
    {
     "name": "stdout",
     "output_type": "stream",
     "text": [
      "[2.20783621 1.21389293 1.46644975 2.57045225]\n",
      "[2.20783621 1.21389293 1.46644975 2.57045225]\n"
     ]
    }
   ],
   "source": [
    "Z1 = np.dot(X, unos)\n",
    "Z2 = X @ unos\n",
    "print(Z1)\n",
    "print(Z2)"
   ]
  },
  {
   "cell_type": "markdown",
   "metadata": {},
   "source": [
    "**Parte d)** Se quiere construir una matriz X_ agregando una columna de unos antes de la primera columna de la matriz X. La siguiente celda da error. Proponga una forma de lograrlo utilizando la misma función de numpy `hstack`. Puede ser útil acceder a la documentación de las funciones dentro de los Notebooks, para ello debe colocar el cursor previo a los paréntesis de la función en cuestión y presionar **Shift+Tab** si trabaja desde Jupyter Notebooks, o **Ctrl+Space** si trabaja desde Google Colab. "
   ]
  },
  {
   "cell_type": "code",
   "execution_count": 11,
   "metadata": {},
   "outputs": [
    {
     "ename": "ValueError",
     "evalue": "all the input arrays must have same number of dimensions, but the array at index 0 has 1 dimension(s) and the array at index 1 has 2 dimension(s)",
     "output_type": "error",
     "traceback": [
      "\u001b[0;31m---------------------------------------------------------------------------\u001b[0m",
      "\u001b[0;31mValueError\u001b[0m                                Traceback (most recent call last)",
      "Input \u001b[0;32mIn [11]\u001b[0m, in \u001b[0;36m<cell line: 2>\u001b[0;34m()\u001b[0m\n\u001b[1;32m      1\u001b[0m unos \u001b[38;5;241m=\u001b[39m np\u001b[38;5;241m.\u001b[39mones(d) \n\u001b[0;32m----> 2\u001b[0m X_ \u001b[38;5;241m=\u001b[39m \u001b[43mnp\u001b[49m\u001b[38;5;241;43m.\u001b[39;49m\u001b[43mhstack\u001b[49m\u001b[43m(\u001b[49m\u001b[43m(\u001b[49m\u001b[43munos\u001b[49m\u001b[43m,\u001b[49m\u001b[43m \u001b[49m\u001b[43mX\u001b[49m\u001b[43m)\u001b[49m\u001b[43m)\u001b[49m\n\u001b[1;32m      3\u001b[0m \u001b[38;5;28mprint\u001b[39m(X_)\n",
      "File \u001b[0;32m<__array_function__ internals>:180\u001b[0m, in \u001b[0;36mhstack\u001b[0;34m(*args, **kwargs)\u001b[0m\n",
      "File \u001b[0;32m~/miniconda3/envs/fuaa/lib/python3.8/site-packages/numpy/core/shape_base.py:343\u001b[0m, in \u001b[0;36mhstack\u001b[0;34m(tup)\u001b[0m\n\u001b[1;32m    341\u001b[0m \u001b[38;5;66;03m# As a special case, dimension 0 of 1-dimensional arrays is \"horizontal\"\u001b[39;00m\n\u001b[1;32m    342\u001b[0m \u001b[38;5;28;01mif\u001b[39;00m arrs \u001b[38;5;129;01mand\u001b[39;00m arrs[\u001b[38;5;241m0\u001b[39m]\u001b[38;5;241m.\u001b[39mndim \u001b[38;5;241m==\u001b[39m \u001b[38;5;241m1\u001b[39m:\n\u001b[0;32m--> 343\u001b[0m     \u001b[38;5;28;01mreturn\u001b[39;00m \u001b[43m_nx\u001b[49m\u001b[38;5;241;43m.\u001b[39;49m\u001b[43mconcatenate\u001b[49m\u001b[43m(\u001b[49m\u001b[43marrs\u001b[49m\u001b[43m,\u001b[49m\u001b[43m \u001b[49m\u001b[38;5;241;43m0\u001b[39;49m\u001b[43m)\u001b[49m\n\u001b[1;32m    344\u001b[0m \u001b[38;5;28;01melse\u001b[39;00m:\n\u001b[1;32m    345\u001b[0m     \u001b[38;5;28;01mreturn\u001b[39;00m _nx\u001b[38;5;241m.\u001b[39mconcatenate(arrs, \u001b[38;5;241m1\u001b[39m)\n",
      "File \u001b[0;32m<__array_function__ internals>:180\u001b[0m, in \u001b[0;36mconcatenate\u001b[0;34m(*args, **kwargs)\u001b[0m\n",
      "\u001b[0;31mValueError\u001b[0m: all the input arrays must have same number of dimensions, but the array at index 0 has 1 dimension(s) and the array at index 1 has 2 dimension(s)"
     ]
    }
   ],
   "source": [
    "unos = np.ones(d) \n",
    "X_ = np.hstack((unos, X))\n",
    "print(X_)"
   ]
  },
  {
   "cell_type": "markdown",
   "metadata": {},
   "source": [
    "<a id=\"Ejercicio5\"></a>\n",
    "### Ejercicio 5"
   ]
  },
  {
   "cell_type": "markdown",
   "metadata": {},
   "source": [
    "Completar la función `distancia_euclidea()` que para dos vectores de entrada $\\mathbf{a}$ y $\\mathbf{b}$ de dimensión $d$ tiene como salida\n",
    "$$\n",
    "d(\\mathbf{a}, \\mathbf{b}) = \\sqrt{\\sum_{i=1}^d (a_i - b_i) ^ 2}\n",
    "$$\n",
    "\n",
    "La implementación se hará en una línea de código y deberá utilizar la función `np.sqrt()`. "
   ]
  },
  {
   "cell_type": "code",
   "execution_count": 1,
   "metadata": {},
   "outputs": [],
   "source": [
    "def distancia_euclidea(a, b):\n",
    "    '''\n",
    "    Calcula la distancia Euclídea entre los vectores a y b.\n",
    "    \n",
    "    Entrada\n",
    "    ----------\n",
    "    a, b : numpy arrays del mismo tamaño o escalares \n",
    "    \n",
    "    Salida\n",
    "    -------\n",
    "    dist: distancia Euclídea entre a y b\n",
    "    \n",
    "    '''\n",
    "    \n",
    "    ##########################################\n",
    "    ### EMPIEZA ESPACIO PARA COMPLETAR CÓDIGO\n",
    "    ##########################################\n",
    "   \n",
    "    dist=np.sqrt(np.sum(np.square(a-b)))\n",
    "\n",
    "    ##########################################\n",
    "    ### TERMINA ESPACIO PARA COMPLETAR CÓDIGO\n",
    "    ##########################################\n",
    "    \n",
    "    return dist"
   ]
  },
  {
   "cell_type": "markdown",
   "metadata": {},
   "source": [
    "Pueden correr la siguiente celda para verificar si su implementación es correcta."
   ]
  },
  {
   "cell_type": "code",
   "execution_count": 2,
   "metadata": {},
   "outputs": [
    {
     "ename": "NameError",
     "evalue": "name 'np' is not defined",
     "output_type": "error",
     "traceback": [
      "\u001b[0;31m---------------------------------------------------------------------------\u001b[0m",
      "\u001b[0;31mNameError\u001b[0m                                 Traceback (most recent call last)",
      "Input \u001b[0;32mIn [2]\u001b[0m, in \u001b[0;36m<cell line: 4>\u001b[0;34m()\u001b[0m\n\u001b[1;32m      1\u001b[0m \u001b[38;5;28;01mfrom\u001b[39;00m \u001b[38;5;21;01mnumpy\u001b[39;00m\u001b[38;5;21;01m.\u001b[39;00m\u001b[38;5;21;01mtesting\u001b[39;00m \u001b[38;5;28;01mimport\u001b[39;00m assert_equal, assert_raises\n\u001b[1;32m      3\u001b[0m \u001b[38;5;66;03m# verifica el cálculo de la distancia para arreglos de tamaño 3\u001b[39;00m\n\u001b[0;32m----> 4\u001b[0m a \u001b[38;5;241m=\u001b[39m \u001b[43mnp\u001b[49m\u001b[38;5;241m.\u001b[39marray([\u001b[38;5;241m1\u001b[39m, \u001b[38;5;241m2\u001b[39m, \u001b[38;5;241m3\u001b[39m])\n\u001b[1;32m      5\u001b[0m b \u001b[38;5;241m=\u001b[39m np\u001b[38;5;241m.\u001b[39marray([\u001b[38;5;241m4\u001b[39m, \u001b[38;5;241m5\u001b[39m, \u001b[38;5;241m6\u001b[39m])\n\u001b[1;32m      6\u001b[0m assert_equal(distancia_euclidea(a, b), \u001b[38;5;241m5.196152422706632\u001b[39m)\n",
      "\u001b[0;31mNameError\u001b[0m: name 'np' is not defined"
     ]
    }
   ],
   "source": [
    "from numpy.testing import assert_equal, assert_raises\n",
    "\n",
    "# verifica el cálculo de la distancia para arreglos de tamaño 3\n",
    "a = np.array([1, 2, 3])\n",
    "b = np.array([4, 5, 6])\n",
    "assert_equal(distancia_euclidea(a, b), 5.196152422706632)\n",
    "\n",
    "# verifica el cálculo de la distancia para arreglos de tamaño 4\n",
    "x = np.array([3.6, 7., 203., 3.])\n",
    "y = np.array([6., 20.2, 1., 2.])\n",
    "assert_equal(distancia_euclidea(x, y), 202.44752406487959)\n",
    "\n",
    "# verifica el cálculo en el caso de escalares\n",
    "assert_equal(distancia_euclidea(1, 0.5), 0.5)\n",
    "\n",
    "# verifica que haya error en el caso que los arreglos tengan distinto tamanho\n",
    "a = np.array([1, 2, 3])\n",
    "b = np.array([4, 5])\n",
    "assert_raises(ValueError, distancia_euclidea, a, b)\n",
    "assert_raises(ValueError, distancia_euclidea, b, a)\n",
    "\n",
    "print(\"Éxito!\")"
   ]
  },
  {
   "cell_type": "code",
   "execution_count": null,
   "metadata": {},
   "outputs": [],
   "source": []
  }
 ],
 "metadata": {
  "kernelspec": {
   "display_name": "Python 3 (ipykernel)",
   "language": "python",
   "name": "python3"
  },
  "language_info": {
   "codemirror_mode": {
    "name": "ipython",
    "version": 3
   },
   "file_extension": ".py",
   "mimetype": "text/x-python",
   "name": "python",
   "nbconvert_exporter": "python",
   "pygments_lexer": "ipython3",
   "version": "3.8.13"
  },
  "varInspector": {
   "cols": {
    "lenName": 16,
    "lenType": 16,
    "lenVar": 40
   },
   "kernels_config": {
    "python": {
     "delete_cmd_postfix": "",
     "delete_cmd_prefix": "del ",
     "library": "var_list.py",
     "varRefreshCmd": "print(var_dic_list())"
    },
    "r": {
     "delete_cmd_postfix": ") ",
     "delete_cmd_prefix": "rm(",
     "library": "var_list.r",
     "varRefreshCmd": "cat(var_dic_list()) "
    }
   },
   "types_to_exclude": [
    "module",
    "function",
    "builtin_function_or_method",
    "instance",
    "_Feature"
   ],
   "window_display": false
  }
 },
 "nbformat": 4,
 "nbformat_minor": 2
}
