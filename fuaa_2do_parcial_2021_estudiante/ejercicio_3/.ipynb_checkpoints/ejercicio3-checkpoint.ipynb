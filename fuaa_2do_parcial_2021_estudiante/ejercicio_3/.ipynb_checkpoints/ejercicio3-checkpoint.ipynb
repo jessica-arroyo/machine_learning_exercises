{
 "cells": [
  {
   "cell_type": "markdown",
   "metadata": {},
   "source": [
    "# <center> FUNDAMENTOS DE APRENDIZAJE AUTOMÁTICO <br> Y RECONOCIMIENTO DE PATRONES</center>\n",
    "## <center> 2do parcial, 2021</center>           \n",
    "\n",
    "La duración del parcial es de 3 horas. El parcial consta de 3 ejercicios, cuya suma total es de 100 puntos. El parcial es sin material y no está permitido acceder a Internet. Ante cualquier duda comuníquese con los docentes. \n",
    "\n",
    "Este notebook corresponde al ejercicio 3. Hay un notebook por ejercicio planteado.\n",
    "\n",
    "* [Ejercicio 3 - SVM](#Ejercicio3) (30 puntos)"
   ]
  },
  {
   "cell_type": "code",
   "execution_count": null,
   "metadata": {},
   "outputs": [],
   "source": [
    "import numpy as np\n",
    "from matplotlib import pyplot as plt\n",
    "from matplotlib.colors import LinearSegmentedColormap\n",
    "from IPython.display import Image\n",
    "\n",
    "import time\n",
    "\n",
    "from sklearn import svm\n",
    "from sklearn.datasets import make_blobs\n",
    "from sklearn.decomposition import PCA\n",
    "from sklearn.model_selection import GridSearchCV\n",
    "from sklearn.model_selection import train_test_split\n",
    "\n",
    "from sklearn.metrics import confusion_matrix\n",
    "\n",
    "from fuaa_utils_ej3 import fashion_mnist_load_data\n",
    "from fuaa_utils_ej3 import fashion_mnist_plot_data\n",
    "from fuaa_utils_ej3 import identificar_parcial\n",
    "from fuaa_utils_ej3 import plot_svc_decision_function\n",
    "from fuaa_utils_ej3 import fuaa_plot_confusion_matrix\n",
    "\n",
    "plt.rcParams['figure.figsize'] = (10, 10)\n",
    "\n",
    "identificar_parcial()"
   ]
  },
  {
   "cell_type": "markdown",
   "metadata": {},
   "source": [
    "<a id=\"Ejercicio3\"></a>\n",
    "# Ejercicio 3\n",
    "\n",
    "En este ejercicio se aplican **Máquinas de Vectores de Soporte** (**SVM**, *Support Vector Machines*) a problemas **multi-clase**. \n",
    "\n",
    "No todos los modelos predictivos de clasificación admiten la clasificación de múltiples clases. Por ejemplo, algoritmos como el Perceptron, Regresión Logística y Máquinas de Vectores de Soporte, están diseñados para  clasificación binaria y no permiten en su formulación original abordar problemas de clasificación con más de dos clases.\n",
    "\n",
    "Un enfoque para usar algoritmos de clasificación binaria en problemas de clasificación múltiple es dividir el conjunto de datos de múltiples clases en múltiples conjuntos de datos de clasificación binaria y ajustar un modelo de clasificación binaria en cada uno. \n",
    "\n",
    "Dos ejemplos diferentes de este enfoque son las estrategias: uno contra el resto (ovr, **One-vs-Rest**) y uno contra uno (ovo, **One-vs-One**). \n",
    "\n",
    "Para comenzar consideramos un conjunto de datos sintético con tres clases, tal como se define a continuación."
   ]
  },
  {
   "cell_type": "code",
   "execution_count": null,
   "metadata": {},
   "outputs": [],
   "source": [
    "# se definen datos sintéticos multi-clase\n",
    "n_samples_train = 1000\n",
    "n_samples_test = 200\n",
    "random_state = 42\n",
    "cluster_std = 1.5\n",
    "cluster_centers = [(0,10), (5,2), (-5,-1)]\n",
    "\n",
    "# datos de train\n",
    "X_train, y_train = make_blobs(n_samples=n_samples_train,\n",
    "                              centers=cluster_centers,\n",
    "                              cluster_std=cluster_std,\n",
    "                              random_state=random_state)\n",
    "# datos de test\n",
    "X_test, y_test = make_blobs(n_samples=n_samples_test,\n",
    "                            centers=cluster_centers,\n",
    "                            cluster_std=cluster_std,\n",
    "                            random_state=random_state+4)"
   ]
  },
  {
   "cell_type": "code",
   "execution_count": null,
   "metadata": {},
   "outputs": [],
   "source": [
    "# se representan los datos gráficamente\n",
    "colors = ['crimson', 'seagreen', 'royalblue']\n",
    "cmap = LinearSegmentedColormap.from_list(\"mycmap\", colors)\n",
    "\n",
    "plt.figure(figsize=(10,10))\n",
    "plt.scatter(X_train[:, 0], X_train[:, 1], c=y_train, s=25, cmap=cmap)\n",
    "plt.scatter(X_test[:, 0], X_test[:, 1], c='black', s=25, alpha=0.6)"
   ]
  },
  {
   "cell_type": "markdown",
   "metadata": {},
   "source": [
    "### Ejercicio 3 - parte a) "
   ]
  },
  {
   "cell_type": "markdown",
   "metadata": {},
   "source": [
    "Complete la siguiente función, `svm_multiclass_models`, que implementa la estrategia **uno vs el resto (ovr)** entrenando un modelo para cada clase. Dada una de las clases, se construye un problema binario en el que dicha clase se considera como la clase positiva ($y = +1$) y el resto de los datos como la clase negativa ($y=-1$). Luego se crea y entrena un modelo SVM con **kernel lineal** usando las funciones de `scikit-learn` (en particular `svm.SVC`). Los modelos se guardan en una lista `svms` que se devuelve como salida de la función `svm_multiclass_models`.\n",
    "\n",
    "**Nota:** Al crear el SVM usando la función `svm.SVC` se debe especificar el parámetro `probability=TRUE`, lo que permite que el modelo devuelva una probabilidad de pertenencia a la clase positiva y negativa mediante la función `predict_proba`."
   ]
  },
  {
   "cell_type": "code",
   "execution_count": null,
   "metadata": {},
   "outputs": [],
   "source": [
    "def svm_multiclass_models(X, y):\n",
    "    \"\"\"Se ajustan modelos svm con kernel lineal, tantos modelos como clases, en un esquema uno vs el resto.\n",
    "   \n",
    "    Entrada:\n",
    "        X: muestras de entrenamiento\n",
    "        y: etiquetas asociadas a las muestras de entrenamiento\n",
    "        \n",
    "    Salida:\n",
    "        svms: lista con los modelos entrenado para cada clase\n",
    "    \"\"\"  \n",
    "    \n",
    "    # valores que toman las etiquetas\n",
    "    lab_vals = np.unique(y)\n",
    "    # cantidad de clases\n",
    "    num_classes = len(lab_vals)\n",
    "    # lista de modelos svm\n",
    "    svms = []\n",
    "    \n",
    "    for lab in lab_vals:\n",
    "        \n",
    "        ###########################################################################################\n",
    "        ##################    EMPIEZA ESPACIO PARA COMPLETAR CODIGO   #############################\n",
    "        ###########################################################################################\n",
    "        \n",
    "        # se arman los datos para clasificación binaria\n",
    "        # indices de la clase positiva\n",
    "        # ind_pos = \n",
    "\n",
    "        # indices de la clase negativa\n",
    "        # ind_neg =\n",
    "\n",
    "        \n",
    "        # etiquetas para el problema binario\n",
    "        # y_train =\n",
    "\n",
    "        \n",
    "        # se ajusta un svm con: kernel='linear' y probability=True\n",
    "        # clf_svm = \n",
    "        \n",
    "        \n",
    "        \n",
    "        ###########################################################################################\n",
    "        ##################    TERMINA ESPACIO PARA COMPLETAR CODIGO   #############################\n",
    "        ###########################################################################################\n",
    "        \n",
    "        svms.append(clf_svm)\n",
    "    \n",
    "    return svms"
   ]
  },
  {
   "cell_type": "markdown",
   "metadata": {},
   "source": [
    "### Ejercicio 3 - parte b) "
   ]
  },
  {
   "cell_type": "markdown",
   "metadata": {},
   "source": [
    "Una vez implementada la función `svm_multiclass_models`, ejecute las siguientes celdas para ajustar los modelos SVM y representarlos gráficamente. Luego responda la pregunta que está despues de estas celdas.\n",
    "\n",
    "**NOTA:** En la última celda se muestra una imagen de referencia de lo que debería obtener si la implmentación es correcta. Responda la pregunta que sigue."
   ]
  },
  {
   "cell_type": "code",
   "execution_count": null,
   "metadata": {},
   "outputs": [],
   "source": [
    "svms = svm_multiclass_models(X_train, y_train)"
   ]
  },
  {
   "cell_type": "code",
   "execution_count": null,
   "metadata": {},
   "outputs": [],
   "source": [
    "# cantidad de clases\n",
    "num_classes = len(np.unique(y_train))\n",
    "    \n",
    "# se representan los datos y los modelos gráficamente\n",
    "plt.figure(figsize=(10,10))\n",
    "plt.scatter(X_train[:, 0], X_train[:, 1], c=y_train, s=25, cmap=cmap)\n",
    "plt.scatter(X_test[:, 0], X_test[:, 1], c='black', s=25, alpha=0.6)\n",
    "colors = ['crimson', 'seagreen', 'royalblue']\n",
    "for ind in range(num_classes):\n",
    "    plot_svc_decision_function(svms[ind], color=colors[ind])\n"
   ]
  },
  {
   "cell_type": "code",
   "execution_count": null,
   "metadata": {},
   "outputs": [],
   "source": [
    "Image(filename='svm_ovr.png') "
   ]
  },
  {
   "cell_type": "markdown",
   "metadata": {},
   "source": [
    "**Pregunta:** Los modelos SVM creados con `scikit-learn` mediante la función `svm.SVC()` son capaces de manejar problemas multi-clase. Consulte la ayuda de la función `svm.SVC()` e indique qué estrategia se usa para manejar multiples clases (One-Vs-Rest ó One-Vs-One)."
   ]
  },
  {
   "cell_type": "code",
   "execution_count": null,
   "metadata": {},
   "outputs": [],
   "source": [
    "# esta celda solo se utiliza para consultar la ayuda de scikit-learn\n",
    "svc = svm.SVC()"
   ]
  },
  {
   "cell_type": "markdown",
   "metadata": {},
   "source": [
    "**Respuesta:**\n",
    "\n",
    "...\n"
   ]
  },
  {
   "cell_type": "markdown",
   "metadata": {},
   "source": [
    "### Ejercicio 3 - parte c) "
   ]
  },
  {
   "cell_type": "markdown",
   "metadata": {},
   "source": [
    "Complete la siguiente función, `svm_multiclass_models_predict`, que obtiene las predicciones para un conjunto de datos $X$. Para ello se obtienen las probabilidades de pertenecer a la clase positiva y negativa para cada uno de los problemas binarios, mediante la función `predict_proba` de cada modelo SVM. Luego se obtiene la predicción como la clase que maximiza la probabilidad de pertencer a la clase positiva entre los modelos SVM considerados. \n",
    "\n",
    "**Nota:** La función `predict_proba` devuelve la probabilidad de cada muestra de pertencer a la clase positiva y a la clase negativa en la forma de un arreglo de dimensiones $(N, 2)$, donde $N$ es el tamaño del conjunto de datos. Las columnas de ese arreglo corresponden a las clases en el orden en que aparecen en el atributo `svm.classes_`. "
   ]
  },
  {
   "cell_type": "code",
   "execution_count": null,
   "metadata": {},
   "outputs": [],
   "source": [
    "def svm_multiclass_models_predict(svms, X_test):\n",
    "    \"\"\"Se obtienen las predicciones de los datos X_test usando los modelos en svms en un esquema uno vs el resto\"\"\"\n",
    "    \n",
    "    # número de clasificadores\n",
    "    num_clfs = len(svms)\n",
    "    # tamaño del conjunto de datos\n",
    "    N = X_test.shape[0]\n",
    "    \n",
    "    # matriz de probabilid de pertenencia a cada clase \n",
    "    probs = np.zeros((N, num_clfs))\n",
    "    \n",
    "    for ind in range(num_clfs):\n",
    "        \n",
    "###########################################################################################\n",
    "##################    EMPIEZA ESPACIO PARA COMPLETAR CODIGO   #############################\n",
    "###########################################################################################\n",
    "        \n",
    "        # modelo svm correspondiente a la clase actual\n",
    "        # clf_svm =\n",
    "        \n",
    "        \n",
    "        # proababilidad de clase positiva y negativa, mediante la función predict_proba\n",
    "        # svm_probs = \n",
    "        \n",
    "                     \n",
    "        # se guarda la probabilidad de la clase positiva\n",
    "        # probs[:, ind] = \n",
    "        \n",
    "               \n",
    "    # se obtiene la predicción de los datos como el argumento del máximo de las probabilidades   \n",
    "    # y_pred = \n",
    "\n",
    "\n",
    "###########################################################################################\n",
    "##################    TERMINA ESPACIO PARA COMPLETAR CODIGO   #############################\n",
    "###########################################################################################  \n",
    "        \n",
    "    return y_pred"
   ]
  },
  {
   "cell_type": "markdown",
   "metadata": {},
   "source": [
    "### Ejercicio 3 - parte d) "
   ]
  },
  {
   "cell_type": "markdown",
   "metadata": {},
   "source": [
    "Usando el modelo entrenado anteriormente realice la predicción de las etiquetas para los datos de train y de test. \n",
    "\n",
    "**NOTA:** Verificar que en ambos casos el error es **menor al 1%**."
   ]
  },
  {
   "cell_type": "code",
   "execution_count": null,
   "metadata": {},
   "outputs": [],
   "source": [
    "###########################################################################################\n",
    "##################    EMPIEZA ESPACIO PARA COMPLETAR CODIGO   #############################\n",
    "###########################################################################################\n",
    "\n",
    "# etiquetas estimadas para el conjunto de train y test\n",
    "# y_train_pred = \n",
    "\n",
    "# y_test_pred = \n",
    "\n",
    "\n",
    "# error de train y test con el modelo para múltiples clases\n",
    "# error_train = \n",
    "\n",
    "# error_test = \n",
    "\n",
    "\n",
    "###########################################################################################\n",
    "##################    TERMINA ESPACIO PARA COMPLETAR CODIGO   #############################\n",
    "###########################################################################################\n",
    "\n",
    "print('El modelo tiene un error de train de: %f' % error_train)\n",
    "print('El modelo tiene un error de test de: %f' % error_test)"
   ]
  },
  {
   "cell_type": "markdown",
   "metadata": {},
   "source": [
    "# Fashion MNIST\n",
    "\n",
    "A continuación se aplica un modelo SVM a un problema multi-clase con datos reales. Para ello se utiliza el conjunto de datos Fashion-MNIST, que consiste en imágenes de artículos de una tienda de ropa y calzado. Cada dato es una imagen en escala de grises de 28 x 28, asociada con una etiqueta de 10 clases. "
   ]
  },
  {
   "cell_type": "markdown",
   "metadata": {},
   "source": [
    "En las siguientes celdas se cargan los datos, se definen las etiquetas y se grafican algunos datos de ejemplo.\n",
    "\n",
    "**NOTA:** Tenga la precaución de **NO** modificar la variable `num` que establece la cantidad de puntos del conjunto de datos."
   ]
  },
  {
   "cell_type": "code",
   "execution_count": null,
   "metadata": {},
   "outputs": [],
   "source": [
    "X, y = fashion_mnist_load_data('data/fashion', kind='t10k')"
   ]
  },
  {
   "cell_type": "code",
   "execution_count": null,
   "metadata": {},
   "outputs": [],
   "source": [
    "num = 3000\n",
    "X = X[:num]\n",
    "y = y[:num]"
   ]
  },
  {
   "cell_type": "code",
   "execution_count": null,
   "metadata": {},
   "outputs": [],
   "source": [
    "labs_txt = ['T-shirt/top', 'Trowser', 'Pullover', 'Dress', 'Coat',\n",
    "            'Sandal', 'Shirt', 'Sneaker', 'Bag', 'Ankle Boot']"
   ]
  },
  {
   "cell_type": "code",
   "execution_count": null,
   "metadata": {},
   "outputs": [],
   "source": [
    "fashion_mnist_plot_data(X, y)"
   ]
  },
  {
   "cell_type": "markdown",
   "metadata": {},
   "source": [
    "### Ejercicio 3 - parte e) "
   ]
  },
  {
   "cell_type": "markdown",
   "metadata": {},
   "source": [
    "Complete el siguiente código para dividir los datos en un conjunto de entrenamiento y otro de test usando la función `train_test_split` de sklearn. La cantidad de datos del conjunto de test debe ser **1/4** del total.\n",
    "\n",
    "**IMPORTANTE:** Preste atención a usar el parámetro `random_state` tal como está definido en la siguiente celda."
   ]
  },
  {
   "cell_type": "code",
   "execution_count": null,
   "metadata": {},
   "outputs": [],
   "source": [
    "random_state = 42\n",
    "\n",
    "###########################################################################################\n",
    "##################    EMPIEZA ESPACIO PARA COMPLETAR CODIGO   #############################\n",
    "###########################################################################################\n",
    "\n",
    "# X_train, X_test, y_train, y_test = \n",
    "\n",
    "\n",
    "###########################################################################################\n",
    "##################    TERMINA ESPACIO PARA COMPLETAR CODIGO   #############################\n",
    "###########################################################################################"
   ]
  },
  {
   "cell_type": "markdown",
   "metadata": {},
   "source": [
    "### Ejercicio 3 - parte f) "
   ]
  },
  {
   "cell_type": "markdown",
   "metadata": {},
   "source": [
    "Si bien se podrían usar las imágenes de 28x28 (728 características) como representación de la entrada, a menudo es más efectivo usar algún tipo de preprocesado para extraer características más significativas. En este caso usaremos un **análisis de componentes principales (PCA)** para extraer **25 componentes** y con ellos alimentar a un clasificador de máquina de vectores de soporte.\n",
    "\n",
    "Complete la siguiente función para entrenar un modelo de SVM con los datos transformados con PCA, usado kernel `rbf` por defecto y con parámetros `gamma` y `C` con valores por defecto `C=1` y `gamma=1`. \n",
    "\n",
    "**NOTA:** Preste atención a usar los valores de los parámetros `kernel`, `gamma` y `C` que se pasan a la función `svm_train`."
   ]
  },
  {
   "cell_type": "code",
   "execution_count": null,
   "metadata": {},
   "outputs": [],
   "source": [
    "def svm_pca_train(X, y, kernel='rbf', C=1, gamma=1, n_components=25):\n",
    "    \"\"\"Se entrena un modelo SVM\n",
    "    \n",
    "    Entrada:\n",
    "        X: muestras de entrenamiento\n",
    "        y: etiquetas asociadas a las muestras de entrenamiento\n",
    "        kernel: tipo de kernel ('lineal', 'rbf')\n",
    "        C: valor del parámetro C\n",
    "        gamma: valor del parámetro gamma\n",
    "        \n",
    "    Salida:\n",
    "        clf_svm: modelo svm entrenado\n",
    "        pca: modelo PCA ajustado a los datos\n",
    "    \"\"\"\n",
    "    \n",
    "    # ajuste de modelo PCA\n",
    "    pca = PCA(n_components=n_components, svd_solver='randomized', whiten=True)\n",
    "    pca.fit(X)\n",
    "    # transformación de los datos con PCA\n",
    "    X_pca = pca.transform(X)\n",
    "    \n",
    "    ##########################################################################################\n",
    "    ##################    EMPIEZA ESPACIO PARA COMPLETAR CODIGO   #############################\n",
    "    ###########################################################################################\n",
    "\n",
    "    # clf_svm = \n",
    "\n",
    "\n",
    "\n",
    "    ###########################################################################################\n",
    "    ##################    TERMINA ESPACIO PARA COMPLETAR CODIGO   #############################\n",
    "    ###########################################################################################\n",
    "    \n",
    "    return clf_svm, pca"
   ]
  },
  {
   "cell_type": "markdown",
   "metadata": {},
   "source": [
    "Usando la función `svm_pca_train` implementada anteriormente, ajuste un modelo SVM a los datos de entrenamiento usando los parámetros por defecto. \n",
    "\n",
    "**NOTA:** Asegúrese de usar los datos de entrenamiento y los parámetros por defecto. "
   ]
  },
  {
   "cell_type": "code",
   "execution_count": null,
   "metadata": {},
   "outputs": [],
   "source": [
    "start = time.time()\n",
    "\n",
    "###########################################################################################\n",
    "##################    EMPIEZA ESPACIO PARA COMPLETAR CODIGO   #############################\n",
    "###########################################################################################\n",
    "\n",
    "# clf_svm, pca = svm_pca_train(...)\n",
    "\n",
    "\n",
    "###########################################################################################\n",
    "##################    TERMINA ESPACIO PARA COMPLETAR CODIGO   #############################\n",
    "###########################################################################################\n",
    "\n",
    "end = time.time()\n",
    "tiempo = end - start\n",
    "print('El tiempo transcurrido es de: %f segundos' % tiempo)"
   ]
  },
  {
   "cell_type": "markdown",
   "metadata": {},
   "source": [
    "### Ejercicio 3 - parte g) "
   ]
  },
  {
   "cell_type": "markdown",
   "metadata": {},
   "source": [
    "Usando el modelo entrenado anteriormente realice la predicción de las etiquetas para los datos de train y de test.\n",
    "\n",
    "**NOTA:** El SVM recibe datos transformardos con el modelo PCA. Verificar que el error de **train** es **menor al 10%** y el error de **test** es **mayor al 60%**."
   ]
  },
  {
   "cell_type": "code",
   "execution_count": null,
   "metadata": {},
   "outputs": [],
   "source": [
    "start = time.time()\n",
    "\n",
    "###########################################################################################\n",
    "##################    EMPIEZA ESPACIO PARA COMPLETAR CODIGO   #############################\n",
    "###########################################################################################\n",
    "\n",
    "# se transforman los datos de train y test con el modelo pca obtenido\n",
    "# X_train_pca = \n",
    "\n",
    "# X_test_pca = \n",
    "\n",
    "\n",
    "# etiquetas estimadas para el conjunto de train y test\n",
    "# y_train_est = \n",
    "\n",
    "# y_test_est = \n",
    "\n",
    "\n",
    "# error de train y test con el modelo entrenado con \n",
    "# con los parámetros por defecto y los datos originales\n",
    "# error_train = \n",
    "\n",
    "# error_test = \n",
    "\n",
    "\n",
    "###########################################################################################\n",
    "##################    TERMINA ESPACIO PARA COMPLETAR CODIGO   #############################\n",
    "###########################################################################################\n",
    "\n",
    "end = time.time()\n",
    "tiempo = end - start\n",
    "print('El tiempo transcurrido es de: %f segundos' % tiempo)\n",
    "\n",
    "print('El modelo tiene un error de train de: %f' % error_train)\n",
    "print('El modelo tiene un error de test de: %f' % error_test)"
   ]
  },
  {
   "cell_type": "markdown",
   "metadata": {},
   "source": [
    "**OPCIONAL:** Puede ejecutar las siguientes dos celdas para ver ejemplos de clasificación de datos de train y test."
   ]
  },
  {
   "cell_type": "code",
   "execution_count": null,
   "metadata": {
    "scrolled": false
   },
   "outputs": [],
   "source": [
    "print('Algunos ejemplos de train, con la etiqueta en rojo si la predicción no es correcta')\n",
    "fashion_mnist_plot_data(X_train, y_train, y_pred=y_train_est)"
   ]
  },
  {
   "cell_type": "code",
   "execution_count": null,
   "metadata": {},
   "outputs": [],
   "source": [
    "print('Algunos ejemplos de test, con la etiqueta en rojo si la predicción no es correcta')\n",
    "fashion_mnist_plot_data(X_test, y_test, y_pred=y_test_est)"
   ]
  },
  {
   "cell_type": "markdown",
   "metadata": {},
   "source": [
    "**Pregunta:** ¿Qué puede decir del modelo comparando el error de train y test? ¿Cómo describiría su punto de operación?"
   ]
  },
  {
   "cell_type": "markdown",
   "metadata": {},
   "source": [
    "**Respuesta:**\n",
    "\n",
    "...\n"
   ]
  },
  {
   "cell_type": "markdown",
   "metadata": {},
   "source": [
    "### Ejercicio 3 - parte h) "
   ]
  },
  {
   "cell_type": "markdown",
   "metadata": {},
   "source": [
    "A continuación se implementa una búsqueda de los parámetros óptimos del clasificador usando validación cruzada. Para ello, complete el código usando `GridSearchCV` y ajsute un clasificador con los valores óptimos de los parámetros dentro de la grilla definida. Use validación cruzada con **6 folds**.\n",
    "\n",
    "**NOTA:** Use los datos procesados mediante PCA. Asegúrese de usar **6 folds**. La ejecución de este código puede tardar algunos minutos."
   ]
  },
  {
   "cell_type": "code",
   "execution_count": null,
   "metadata": {},
   "outputs": [],
   "source": [
    "start = time.time()\n",
    "\n",
    "C_grid = [1e-1, 1e0, 1e1, 1e2]\n",
    "gamma_grid = [0.01, 0.1, 1.0, 10]\n",
    "\n",
    "\n",
    "clf_svm_pca = svm.SVC(kernel='rbf')\n",
    "\n",
    "###########################################################################################\n",
    "##################    EMPIEZA ESPACIO PARA COMPLETAR CODIGO   #############################\n",
    "###########################################################################################\n",
    "\n",
    "# diccionario con la grilla de parámetros\n",
    "# param_grid = \n",
    "\n",
    "# instancia de GridSearchCV\n",
    "# grid_CV = \n",
    "\n",
    "\n",
    "# mejor modelo ajustado\n",
    "# clf_best_pca = \n",
    "\n",
    "\n",
    "###########################################################################################\n",
    "##################    TERMINA ESPACIO PARA COMPLETAR CODIGO   #############################\n",
    "###########################################################################################\n",
    "\n",
    "end = time.time()\n",
    "tiempo = end - start\n",
    "print('El tiempo transcurrido es de: %f' % tiempo)\n",
    "\n",
    "print(\"Mejor modelo encontrado por búsqueda en la grilla usando CV:\")\n",
    "print(clf_best_pca)"
   ]
  },
  {
   "cell_type": "markdown",
   "metadata": {},
   "source": [
    "### Ejercicio 3 - parte i) "
   ]
  },
  {
   "cell_type": "markdown",
   "metadata": {},
   "source": [
    "Usando el mejor modelo obtenido anteriormente realice la predicción de las etiquetas para los datos de test y responda la pregunta que se plantea a continuación.\n",
    "\n",
    "**NOTA:** Use los datos procesados mediante PCA. Verificar que el error de **test** es **menor al 20%**."
   ]
  },
  {
   "cell_type": "code",
   "execution_count": null,
   "metadata": {},
   "outputs": [],
   "source": [
    "###########################################################################################\n",
    "##################    EMPIEZA ESPACIO PARA COMPLETAR CODIGO   #############################\n",
    "###########################################################################################\n",
    "\n",
    "# etiquetas estimadas para el conjunto de test\n",
    "# y_test_est = \n",
    "\n",
    "\n",
    "# error de test con el mejor modelo\n",
    "# error_test = \n",
    "\n",
    "\n",
    "###########################################################################################\n",
    "##################    TERMINA ESPACIO PARA COMPLETAR CODIGO   #############################\n",
    "###########################################################################################\n",
    "print('El mejor modelo obtenido tiene un error de test de: %f' % error_test)"
   ]
  },
  {
   "cell_type": "markdown",
   "metadata": {},
   "source": [
    "**Pregunta:** Explique la diferencia de desempeño obtenida respecto al modelo de la **parte l)**, indicando en qué consiste la validación cruzada y para qué se usa en este caso."
   ]
  },
  {
   "cell_type": "markdown",
   "metadata": {},
   "source": [
    "**Respuesta:**\n",
    "\n",
    "...\n"
   ]
  },
  {
   "cell_type": "markdown",
   "metadata": {},
   "source": [
    "### Ejercicio 3 - parte j) "
   ]
  },
  {
   "cell_type": "markdown",
   "metadata": {},
   "source": [
    "Para analizar los resultados con mayor detalle se propone utilizar una matriz de confusión. Para ello, ejecute el siguiente código e inspeccione la matriz de confusión resultante. "
   ]
  },
  {
   "cell_type": "code",
   "execution_count": null,
   "metadata": {},
   "outputs": [],
   "source": [
    "plt.rcParams['figure.figsize'] = (10.0, 8.0)\n",
    "cnf_matrix = confusion_matrix(y_test, y_test_est)\n",
    "fuaa_plot_confusion_matrix(cnf_matrix, labs_txt)"
   ]
  },
  {
   "cell_type": "markdown",
   "metadata": {},
   "source": [
    "**Pregunta:** Comente sobre el tipo de errores que ocurren y las diferencias de desempeño según la clase. Indique a qué pueden deberse las diferencias de desempeño para distintas clases. Tenga en cuenta la siguiente traducción de los nombres de las clases."
   ]
  },
  {
   "cell_type": "markdown",
   "metadata": {},
   "source": [
    "| En inglés | T-shirt/top | Trowser | Pullover | Dress | Coat | Sandal | Shirt | Sneaker | Bag | Ankle Boot| \n",
    "| --- | --- | --- | --- | --- | --- | --- | --- | --- | --- | --- |\n",
    "|En español | Camiseta/top | Pantalones | Buzo | Vestido | Abrigo | Sandalia | Camisa | Calzado deportivo | Bolso | Bota hasta el tobillo |\n"
   ]
  },
  {
   "cell_type": "markdown",
   "metadata": {},
   "source": [
    "**Respuesta:**\n",
    "\n",
    "...\n"
   ]
  }
 ],
 "metadata": {
  "kernelspec": {
   "display_name": "Python 3 (ipykernel)",
   "language": "python",
   "name": "python3"
  },
  "language_info": {
   "codemirror_mode": {
    "name": "ipython",
    "version": 3
   },
   "file_extension": ".py",
   "mimetype": "text/x-python",
   "name": "python",
   "nbconvert_exporter": "python",
   "pygments_lexer": "ipython3",
   "version": "3.8.13"
  },
  "toc": {
   "base_numbering": 1,
   "nav_menu": {},
   "number_sections": false,
   "sideBar": false,
   "skip_h1_title": false,
   "title_cell": "Table of Contents",
   "title_sidebar": "Contents",
   "toc_cell": false,
   "toc_position": {},
   "toc_section_display": true,
   "toc_window_display": false
  },
  "varInspector": {
   "cols": {
    "lenName": 16,
    "lenType": 16,
    "lenVar": 40
   },
   "kernels_config": {
    "python": {
     "delete_cmd_postfix": "",
     "delete_cmd_prefix": "del ",
     "library": "var_list.py",
     "varRefreshCmd": "print(var_dic_list())"
    },
    "r": {
     "delete_cmd_postfix": ") ",
     "delete_cmd_prefix": "rm(",
     "library": "var_list.r",
     "varRefreshCmd": "cat(var_dic_list()) "
    }
   },
   "types_to_exclude": [
    "module",
    "function",
    "builtin_function_or_method",
    "instance",
    "_Feature"
   ],
   "window_display": false
  }
 },
 "nbformat": 4,
 "nbformat_minor": 4
}
