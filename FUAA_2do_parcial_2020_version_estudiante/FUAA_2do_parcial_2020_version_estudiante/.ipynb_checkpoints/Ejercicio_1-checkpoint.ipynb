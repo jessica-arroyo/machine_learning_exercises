{
 "cells": [
  {
   "cell_type": "markdown",
   "metadata": {},
   "source": [
    "# <center> FUNDAMENTOS DE APRENDIZAJE AUTOMÁTICO <br> Y RECONOCIMIENTO DE PATRONES</center>\n",
    "## <center> 2do parcial, 2020</center>           \n",
    "\n",
    "La duración del parcial es de 3 horas. El parcial consta de 3 ejercicios, cuya suma total es de 100 puntos. El parcial es sin material y no está permitido acceder a Internet. Ante cualquier duda comuníquese con los docentes. \n",
    "\n",
    "Este notebook corresponde al ejercicio 1. Hay un notebook por ejercicio planteado.\n",
    "\n",
    "* [Ejercicio 1 - K-means](#Ejercicio1) (30 puntos)"
   ]
  },
  {
   "cell_type": "code",
   "execution_count": 1,
   "metadata": {},
   "outputs": [],
   "source": [
    "import numpy as np\n",
    "from matplotlib import pyplot as plt\n",
    "\n",
    "from sklearn.datasets import load_digits\n",
    "\n",
    "from sklearn.model_selection import train_test_split\n",
    "from sklearn.linear_model import LogisticRegression\n",
    "\n",
    "from sklearn.metrics import pairwise_distances\n",
    "\n",
    "\n",
    "\n",
    "from sklearn.metrics import accuracy_score"
   ]
  },
  {
   "cell_type": "markdown",
   "metadata": {},
   "source": [
    "# Ejercicio 1"
   ]
  },
  {
   "cell_type": "markdown",
   "metadata": {},
   "source": [
    "Este ejercicio explora el agrupamiento con K-means como estrategia de reducción de dimensionalidad, en particular como etapa de pre-procesado antes de un algoritmo de clasificación. El primer enfoque consiste en entrenar un modelo de regresión logística para clasificación de imágenes de dígitos. Luego, el otro enfoque consiste en usar el algoritmo de K-means para agrupar las imágenes y entrenar un nuevo modelo de regresión logística pero que usa como entrada la distancia de cada imagen a cada uno de los centros de los grupos. Para ello se implementa el algoritmo de K-means.  "
   ]
  },
  {
   "cell_type": "markdown",
   "metadata": {},
   "source": [
    "Considere el conjunto de dígitos provisto por sklearn, que consiste 1.797 imágenes de 8x8 en escala de grises que representan los dígitos del 0 al 9. "
   ]
  },
  {
   "cell_type": "code",
   "execution_count": 2,
   "metadata": {},
   "outputs": [],
   "source": [
    "X, y = load_digits(return_X_y=True)"
   ]
  },
  {
   "cell_type": "code",
   "execution_count": 3,
   "metadata": {},
   "outputs": [
    {
     "data": {
      "image/png": "[encoded data removed]",
      "text/plain": [
       "<Figure size 864x2160 with 10 Axes>"
      ]
     },
     "metadata": {
      "needs_background": "light"
     },
     "output_type": "display_data"
    }
   ],
   "source": [
    "_, axes = plt.subplots(1, 10, figsize=(12,30))\n",
    "for ind, ax in enumerate(axes):\n",
    "    ax.set_axis_off()\n",
    "    ax.imshow(X[ind].reshape(8,8), cmap=plt.cm.gray_r, interpolation='nearest')\n",
    "    ax.set_title('%i' % y[ind])\n",
    "plt.tight_layout()"
   ]
  },
  {
   "cell_type": "markdown",
   "metadata": {},
   "source": [
    "### Ejercicio 1 - parte a)  "
   ]
  },
  {
   "cell_type": "markdown",
   "metadata": {},
   "source": [
    "Divida los datos en un conjunto de entrenamiento y otro de test usando la función `train_test_split` de sklearn. La cantidad de datos del conjunto de test debe ser **1/4** del total.\n",
    "\n",
    "**IMPORTANTE:** Presete atención a usar el parámetro `random_state` tal como está definido en la siguiente celda."
   ]
  },
  {
   "cell_type": "code",
   "execution_count": 4,
   "metadata": {},
   "outputs": [],
   "source": [
    "random_state = 42\n",
    "\n",
    "###########################################################################################\n",
    "##################    EMPIEZA ESPACIO PARA COMPLETAR CODIGO   #############################\n",
    "###########################################################################################\n",
    "\n",
    "X_train, X_test, y_train, y_test = train_test_split(X, y, test_size=0.25, random_state=random_state)\n",
    "\n",
    "\n",
    "###########################################################################################\n",
    "##################    TERMINA ESPACIO PARA COMPLETAR CODIGO   #############################\n",
    "###########################################################################################"
   ]
  },
  {
   "cell_type": "markdown",
   "metadata": {},
   "source": [
    "### Ejercicio 1 - parte b)  "
   ]
  },
  {
   "cell_type": "markdown",
   "metadata": {},
   "source": [
    "Ajuste un modelo de regresión logística para predecir el dígito de cada imagen. \n",
    "\n",
    "**NOTA:** El problema de clasificación multi-clase debe manejarse como muchos clasificadores de uno contra el resto. \n",
    "\n",
    "**IMPORTANTE:** Preste atención a usar los valores de los parámetros `random_state`, `solver` y `max_iter` tal como se definen en la siguiente celda."
   ]
  },
  {
   "cell_type": "code",
   "execution_count": 16,
   "metadata": {},
   "outputs": [],
   "source": [
    "random_state = 42\n",
    "solver = \"lbfgs\"\n",
    "max_iter = 5000\n",
    "\n",
    "###########################################################################################\n",
    "##################    EMPIEZA ESPACIO PARA COMPLETAR CODIGO   #############################\n",
    "###########################################################################################\n",
    "\n",
    "log_reg = LogisticRegression(multi_class=\"ovr\",random_state = 42,solver = \"lbfgs\",max_iter = 5000).fit(X_train,y_train)\n",
    "\n",
    "###########################################################################################\n",
    "##################    TERMINA ESPACIO PARA COMPLETAR CODIGO   #############################\n",
    "###########################################################################################"
   ]
  },
  {
   "cell_type": "markdown",
   "metadata": {},
   "source": [
    "### Ejercicio 1 - parte c)  "
   ]
  },
  {
   "cell_type": "markdown",
   "metadata": {},
   "source": [
    "Calcule las predicciones para los datos de test y calcule el error de test (*el error de test debería ser de menos 5\\%*). "
   ]
  },
  {
   "cell_type": "code",
   "execution_count": 17,
   "metadata": {},
   "outputs": [
    {
     "name": "stdout",
     "output_type": "stream",
     "text": [
      "El algoritmo de regresión logística devuelve un error de test de: 0.031111\n"
     ]
    }
   ],
   "source": [
    "###########################################################################################\n",
    "##################    EMPIEZA ESPACIO PARA COMPLETAR CODIGO   #############################\n",
    "###########################################################################################\n",
    "\n",
    "pred_test = log_reg.predict(X_test)\n",
    "error_logreg = 1-accuracy_score(y_test,pred_test)\n",
    "\n",
    "###########################################################################################\n",
    "##################    TERMINA ESPACIO PARA COMPLETAR CODIGO   #############################\n",
    "###########################################################################################\n",
    "print('El algoritmo de regresión logística devuelve un error de test de: %f' % error_logreg)"
   ]
  },
  {
   "cell_type": "markdown",
   "metadata": {},
   "source": [
    "### Ejercicio 1 - parte d)  "
   ]
  },
  {
   "cell_type": "markdown",
   "metadata": {},
   "source": [
    "Complete el siguiente código para implementar el algoritmo de agrupamiento de k-means. \n",
    "\n",
    "**NOTA:** se debe utilizar distancia euclídea."
   ]
  },
  {
   "cell_type": "code",
   "execution_count": 7,
   "metadata": {},
   "outputs": [
    {
     "name": "stdout",
     "output_type": "stream",
     "text": [
      "[1. 0. 1. 0.]\n",
      "[False  True False  True]\n",
      "[0 1 2 3]\n",
      "[1 3]\n",
      "[[0. 1. 2. 3.]\n",
      " [0. 1. 2. 3.]\n",
      " [0. 1. 2. 3.]\n",
      " [0. 1. 2. 3.]]\n"
     ]
    }
   ],
   "source": [
    "a=np.zeros(4)\n",
    "a[2]=1\n",
    "a[0]=1\n",
    "print(a)\n",
    "print(a==0)\n",
    "b=np.array(range(4))\n",
    "c=b*np.ones((4,4))\n",
    "print(b)\n",
    "print(b[a==0])\n",
    "print(c)\n"
   ]
  },
  {
   "cell_type": "code",
   "execution_count": 18,
   "metadata": {},
   "outputs": [],
   "source": [
    "from sklearn.metrics import pairwise_distances\n",
    "\n",
    "def k_means(X, k, semilla=42):    \n",
    "    '''\n",
    "    Entrada:\n",
    "        X - arreglo de tamaño (N,d) que contiene los vectores de entrada\n",
    "        k - numero de clusters a encontrar\n",
    "        semilla - semilla que se usa para inicializar los centros.\n",
    "                  Elegir aleatoriamente k vectores de X\n",
    "    Salida:\n",
    "        centros: arreglo de tamaño (k,d) que contiene los centros de los \n",
    "                 clusters encontrados\n",
    "        etiquetas: vector de largo N que contiene los clusters \n",
    "                   a los que se asignaron las muestras\n",
    "        distancias: arreglo de tamaño (N,k) que contiene las distancias de\n",
    "                    cada vector de entrada a cada uno de los centros\n",
    "    '''\n",
    "    \n",
    "    np.random.seed(semilla)\n",
    "    \n",
    "    ###########################################################################################\n",
    "    ##################    EMPIEZA ESPACIO PARA COMPLETAR CODIGO   #############################\n",
    "    ###########################################################################################\n",
    "    \n",
    "    # Se inicializan los centros de los clusters a muestras elegidas aleatoriamente \n",
    "    # Esto quiere decir elegir aleatoriamente k vectores de X\n",
    "    # centros =   \n",
    "    indices = np.random.permutation(X.shape[0])[:k]\n",
    "    centros = X[indices]\n",
    "    \n",
    "    convergio = False\n",
    "    n_iter = 0\n",
    "       \n",
    "    while not convergio:\n",
    "        \n",
    "        # 1. Se calcula la distancia de cada punto a cada uno de los centros.\n",
    "        # Se sugiere usar pairwise_distances del paquete metrics de sklearn.\n",
    "        distancias = pairwise_distances(X,Y=centros)\n",
    "  \n",
    "\n",
    "        # 2. Se asignan las etiquetas al cluster cuyo centro es el más cercano. \n",
    "        etiquetas=np.zeros(X.shape[0])\n",
    "        for i in range(X.shape[0]):\n",
    "            #etiquetas[i]=(np.array(range(k))[distancias[i]==np.min(distancias[i])][0])\n",
    "            etiquetas[i]=np.argmin(distancias[i])\n",
    "        \n",
    "        # 3. Se calculan los nuevos centros.\n",
    "        centros_nuevos = []\n",
    "        for i in range(k):\n",
    "            centros_nuevos.append(np.mean(X[etiquetas==i],axis=0)) \n",
    "  \n",
    "        # 4. Se evalúa la condición de convergencia (que los centros no cambien)\n",
    "        convergio = np.array_equal(centros_nuevos,centros)\n",
    "        \n",
    "        # 5. Se actualiza la variable centros y se aumenta el número de iteración\n",
    "        centros = centros_nuevos\n",
    "        n_iter +=1 \n",
    "\n",
    "        \n",
    "    ###########################################################################################\n",
    "    ##################    TERMINA ESPACIO PARA COMPLETAR CODIGO   #############################\n",
    "    ###########################################################################################\n",
    "    \n",
    "    print('El algoritmo finalizó en la iteración: %d' % (n_iter))\n",
    "    \n",
    "    return centros, etiquetas, distancias"
   ]
  },
  {
   "cell_type": "markdown",
   "metadata": {},
   "source": [
    "### Ejercicio 1 - parte e)  "
   ]
  },
  {
   "cell_type": "markdown",
   "metadata": {},
   "source": [
    "Utilice el algoritmo de k-means para agrupar los datos de entrenamiento en **k=50** grupos. \n",
    "\n",
    "Calcule la distancia de cada punto de test a cada uno de los centros, como un arreglo `distancias_test` de tamaño (N,k). "
   ]
  },
  {
   "cell_type": "code",
   "execution_count": 19,
   "metadata": {},
   "outputs": [
    {
     "name": "stdout",
     "output_type": "stream",
     "text": [
      "El algoritmo finalizó en la iteración: 13\n"
     ]
    }
   ],
   "source": [
    "# cantidad de clusters para el algoritmo de k-means\n",
    "k = 50\n",
    "\n",
    "###########################################################################################\n",
    "##################    EMPIEZA ESPACIO PARA COMPLETAR CODIGO   #############################\n",
    "###########################################################################################\n",
    "\n",
    "centros, etiquetas, distancias = k_means(X_train, 50, semilla=42)\n",
    "distancias_test = pairwise_distances(X_test,centros)\n",
    "\n",
    "\n",
    "###########################################################################################\n",
    "##################    TERMINA ESPACIO PARA COMPLETAR CODIGO   #############################\n",
    "###########################################################################################"
   ]
  },
  {
   "cell_type": "markdown",
   "metadata": {},
   "source": [
    "El siguiente código sirve como verificación cualitativa de la implementación de k-means. Muestra algunos dígitos del cluster que se indica en la variable `clust`. Ejecútelo varias veces cambiando el valor de `clust`. Debería ver imágenes similares de un mismo dígito dentro de clada cluster."
   ]
  },
  {
   "cell_type": "code",
   "execution_count": 20,
   "metadata": {},
   "outputs": [
    {
     "data": {
      "image/png": "[encoded data removed]",
      "text/plain": [
       "<Figure size 864x2160 with 10 Axes>"
      ]
     },
     "metadata": {
      "needs_background": "light"
     },
     "output_type": "display_data"
    }
   ],
   "source": [
    "# clust puede tomar un valor entre 0 y k-1 (49 en este caso)\n",
    "# cambie el valor de clust para visualizar algunos elementos\n",
    "clust = 47\n",
    "\n",
    "X_clust = X_train[etiquetas==clust, :]\n",
    "n_clust = X_clust.shape[0]\n",
    "nc = min(10, n_clust)\n",
    "_, axes = plt.subplots(1, nc, figsize=(12,30))\n",
    "for ind, ax in enumerate(axes):\n",
    "    ax.set_axis_off()\n",
    "    ax.imshow(X_clust[ind].reshape(8,8), cmap=plt.cm.gray_r, interpolation='nearest')\n",
    "plt.tight_layout()"
   ]
  },
  {
   "cell_type": "markdown",
   "metadata": {},
   "source": [
    "### Ejercicio 1 - parte f)  "
   ]
  },
  {
   "cell_type": "markdown",
   "metadata": {},
   "source": [
    "Use el agrupamiento de los datos como preprocesamiento para la clasificación. Para ello, ajuste un modelo de regresión logística para predecir el dígito de cada imagen, pero remplazando cada imagen por la distancia de ella a cada uno de los centros del agrupamiento. \n",
    "\n",
    "**NOTA:** Nuevamente el problema de clasificación multi-clase debe manejarse como muchos clasificadores de uno contra el resto. \n",
    "\n",
    "**IMPORTANTE:** Preste atención a usar los valores de los parámetros `random_state`, `solver` y `max_iter` tal como se definen en la siguiente celda."
   ]
  },
  {
   "cell_type": "code",
   "execution_count": 11,
   "metadata": {},
   "outputs": [
    {
     "name": "stdout",
     "output_type": "stream",
     "text": [
      "(1347, 50)\n"
     ]
    }
   ],
   "source": [
    "print(distancias.shape)"
   ]
  },
  {
   "cell_type": "code",
   "execution_count": 13,
   "metadata": {},
   "outputs": [],
   "source": [
    "random_state = 42\n",
    "solver = \"lbfgs\"\n",
    "max_iter = 5000\n",
    "\n",
    "###########################################################################################\n",
    "##################    EMPIEZA ESPACIO PARA COMPLETAR CODIGO   #############################\n",
    "###########################################################################################\n",
    "\n",
    "\n",
    "log_reg_kmeans = LogisticRegression(multi_class=\"ovr\",random_state = 42,solver = \"lbfgs\",max_iter = 5000).fit(distancias,y_train)\n",
    "\n",
    "\n",
    "###########################################################################################\n",
    "##################    TERMINA ESPACIO PARA COMPLETAR CODIGO   #############################\n",
    "###########################################################################################"
   ]
  },
  {
   "cell_type": "markdown",
   "metadata": {},
   "source": [
    "### Ejercicio 1 - parte g)  "
   ]
  },
  {
   "cell_type": "markdown",
   "metadata": {},
   "source": [
    "Usando el nuevo modelo de regresión logística calcule las predicciones para los datos de test y calcule el error de test (*debería ser de menos 3\\%*). "
   ]
  },
  {
   "cell_type": "code",
   "execution_count": 14,
   "metadata": {},
   "outputs": [
    {
     "name": "stdout",
     "output_type": "stream",
     "text": [
      "El algoritmo de regresión logística devuelve un error de test de: 0.022222\n"
     ]
    }
   ],
   "source": [
    "###########################################################################################\n",
    "##################    EMPIEZA ESPACIO PARA COMPLETAR CODIGO   #############################\n",
    "###########################################################################################\n",
    "\n",
    "pred_test_kmeans = log_reg_kmeans.predict(distancias_test)\n",
    "error_logreg_kmeans = 1-accuracy_score(y_test,pred_test_kmeans)\n",
    "\n",
    "\n",
    "###########################################################################################\n",
    "##################    TERMINA ESPACIO PARA COMPLETAR CODIGO   #############################\n",
    "###########################################################################################\n",
    "print('El algoritmo de regresión logística devuelve un error de test de: %f' % error_logreg_kmeans)"
   ]
  },
  {
   "cell_type": "markdown",
   "metadata": {},
   "source": [
    "### Ejercicio 1 - parte h)  "
   ]
  },
  {
   "cell_type": "markdown",
   "metadata": {},
   "source": [
    "Calcule la variación relativa del error del modelo nuevo respecto al error del modelo original. \n",
    "\n",
    "Comente los resultados obtenidos. Sugiera alguna estrategia que permita mejorar los resultados. "
   ]
  },
  {
   "cell_type": "code",
   "execution_count": 15,
   "metadata": {},
   "outputs": [
    {
     "name": "stdout",
     "output_type": "stream",
     "text": [
      "La variación relativa del error entre el modelo original y el modelo nuevo es de: 0.200000\n"
     ]
    }
   ],
   "source": [
    "###########################################################################################\n",
    "##################    EMPIEZA ESPACIO PARA COMPLETAR CODIGO   #############################\n",
    "###########################################################################################\n",
    "\n",
    "# variación relativa del error\n",
    "var_error = np.abs(error_logreg_kmeans - error_logreg )/error_logreg_kmeans\n",
    "\n",
    "\n",
    "###########################################################################################\n",
    "##################    TERMINA ESPACIO PARA COMPLETAR CODIGO   #############################\n",
    "###########################################################################################\n",
    "print('La variación relativa del error entre el modelo original y el modelo nuevo es de: %f' % var_error)\n"
   ]
  },
  {
   "cell_type": "markdown",
   "metadata": {},
   "source": [
    "**Respuesta:**\n",
    "\n",
    "..."
   ]
  },
  {
   "cell_type": "code",
   "execution_count": null,
   "metadata": {},
   "outputs": [],
   "source": []
  }
 ],
 "metadata": {
  "kernelspec": {
   "display_name": "Python 3 (ipykernel)",
   "language": "python",
   "name": "python3"
  },
  "language_info": {
   "codemirror_mode": {
    "name": "ipython",
    "version": 3
   },
   "file_extension": ".py",
   "mimetype": "text/x-python",
   "name": "python",
   "nbconvert_exporter": "python",
   "pygments_lexer": "ipython3",
   "version": "3.8.13"
  }
 },
 "nbformat": 4,
 "nbformat_minor": 4
}
